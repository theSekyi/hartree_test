{
 "cells": [
  {
   "cell_type": "code",
   "execution_count": 21,
   "id": "c9bf3f8c-65e9-4002-a6b6-dc83c15273e1",
   "metadata": {},
   "outputs": [
    {
     "name": "stderr",
     "output_type": "stream",
     "text": [
      "WARNING:apache_beam.options.pipeline_options:Discarding unparseable args: ['-f', '/Users/emmanuelsekyi/Library/Jupyter/runtime/kernel-f8b9e387-056a-4139-9a2b-4fa175b1d85c.json']\n",
      "WARNING:apache_beam.options.pipeline_options:Discarding unparseable args: ['-f', '/Users/emmanuelsekyi/Library/Jupyter/runtime/kernel-f8b9e387-056a-4139-9a2b-4fa175b1d85c.json']\n",
      "WARNING:apache_beam.io.filebasedsink:No shards found to finalize. num_shards: 1, skipped: 1\n"
     ]
    }
   ],
   "source": [
    "import apache_beam as beam\n",
    "import pandas as pd\n",
    "from apache_beam.options.pipeline_options import PipelineOptions\n",
    "\n",
    "def compute_aggregations(df):\n",
    "    arap_sum = df[df['status'] == 'ARAP'].groupby(['legal_entity', 'counter_party', 'tier']).agg({'value': 'sum'}).reset_index().rename(columns={'value': 'sum(value where status=ARAP)'})\n",
    "    accr_sum = df[df['status'] == 'ACCR'].groupby(['legal_entity', 'counter_party', 'tier']).agg({'value': 'sum'}).reset_index().rename(columns={'value': 'sum(value where status=ACCR)'})\n",
    "    max_rating = df.groupby(['legal_entity', 'counter_party', 'tier']).agg({'rating': 'max'}).reset_index().rename(columns={'rating': 'max(rating by counterparty)'})\n",
    "    result = max_rating.merge(arap_sum, on=[\"legal_entity\", \"counter_party\", \"tier\"], how=\"left\").merge(accr_sum, on=[\"legal_entity\", \"counter_party\", \"tier\"], how=\"left\")\n",
    "    result[\"max(rating by counterparty)\"] = result[\"max(rating by counterparty)\"].fillna(0)\n",
    "    result[\"sum(value where status=ARAP)\"] = result[\"sum(value where status=ARAP)\"].fillna(0)\n",
    "    result[\"sum(value where status=ACCR)\"] = result[\"sum(value where status=ACCR)\"].fillna(0)\n",
    "    return result\n",
    "\n",
    "def compute_totals(result):\n",
    "    legal_entity_total = result.groupby(\"legal_entity\").agg({\"max(rating by counterparty)\": \"sum\",\"sum(value where status=ARAP)\": \"sum\",\"sum(value where status=ACCR)\": \"sum\",}).reset_index()\n",
    "    legal_entity_total[\"counter_party\"] = \"Total\"\n",
    "    legal_entity_total[\"tier\"] = \"Total\"\n",
    "\n",
    "    counter_party_total = result.groupby(\"counter_party\").agg({\"max(rating by counterparty)\": \"sum\",\"sum(value where status=ARAP)\": \"sum\",\"sum(value where status=ACCR)\": \"sum\",}).reset_index()\n",
    "    counter_party_total[\"legal_entity\"] = \"Total\"\n",
    "    counter_party_total[\"tier\"] = \"Total\"\n",
    "\n",
    "    tier_total = result.groupby(\"tier\").agg({\"max(rating by counterparty)\": \"sum\",\"sum(value where status=ARAP)\": \"sum\",\"sum(value where status=ACCR)\": \"sum\",}).reset_index()\n",
    "    tier_total[\"legal_entity\"] = \"Total\"\n",
    "    tier_total[\"counter_party\"] = \"Total\"\n",
    "\n",
    "    result = pd.concat([result, legal_entity_total, counter_party_total, tier_total], ignore_index=True)\n",
    "    return result\n",
    "\n",
    "class ComputeAggregations(beam.DoFn):\n",
    "    def process(self, element):\n",
    "        df = pd.DataFrame([element])\n",
    "        return compute_aggregations(df).to_dict('records')\n",
    "\n",
    "class ComputeTotals(beam.DoFn):\n",
    "    def process(self, element):\n",
    "        df = pd.DataFrame([element])\n",
    "        return compute_totals(df).to_dict('records')\n",
    "    \n",
    "    \n",
    "def save_to_csv(dataframe):\n",
    "    dataframe.to_csv('../output_data/beam_output.csv', index=False)\n",
    "    \n",
    "\n",
    "def df_to_csv_string(dataframe):\n",
    "    return dataframe.to_csv(index=False)\n",
    "\n",
    "with beam.Pipeline(options=PipelineOptions()) as p:\n",
    "    dataset1 = p | 'Read dataset1' >> beam.io.ReadFromText('../input_data/dataset1.csv', skip_header_lines=1)\n",
    "    dataset2 = p | 'Read dataset2' >> beam.io.ReadFromText('../input_data/dataset2.csv', skip_header_lines=1)\n",
    "\n",
    "    dataset1_df = dataset1 | 'Convert dataset1 to DF' >> beam.Map(lambda line: pd.read_csv(pd.StringIO(line), header=None, names=[\"invoice_id\", \"legal_entity\", \"counter_party\", \"rating\", \"status\", \"value\"]))\n",
    "    dataset2_df = dataset2 | 'Convert dataset2 to DF' >> beam.Map(lambda line: pd.read_csv(pd.StringIO(line), header=None, names=[\"counter_party\", \"tier\"]))\n",
    "\n",
    "    merged_data = ({'d1': dataset1_df, 'd2': dataset2_df}) | 'CoGroupByKey' >> beam.CoGroupByKey() | 'Merge datasets' >> beam.FlatMap(lambda row: pd.merge(pd.DataFrame(row['d1']), pd.DataFrame(row['d2']), on='counter_party', how='left').to_dict('records'))\n",
    "\n",
    "    aggregated_data = merged_data | 'Compute aggregations' >> beam.ParDo(ComputeAggregations())\n",
    "\n",
    "    with_totals = aggregated_data | 'Compute totals' >> beam.ParDo(ComputeTotals())\n",
    "\n",
    "    output = with_totals | 'Convert DF to CSV string' >> beam.Map(df_to_csv_string) | 'Save to CSV' >> beam.io.WriteToText('../output_data/beam_output', file_name_suffix='.csv', header='invoice_id,legal_entity,counter_party,rating,status,value,tier,max(rating by counterparty),sum(value where status=ARAP),sum(value where status=ACCR)', num_shards=1)"
   ]
  },
  {
   "cell_type": "code",
   "execution_count": 14,
   "id": "c8f85806-fcc4-4072-a5e1-d4b4d8bef865",
   "metadata": {},
   "outputs": [
    {
     "name": "stderr",
     "output_type": "stream",
     "text": [
      "WARNING:apache_beam.options.pipeline_options:Discarding unparseable args: ['-f', '/Users/emmanuelsekyi/Library/Jupyter/runtime/kernel-f8b9e387-056a-4139-9a2b-4fa175b1d85c.json']\n",
      "WARNING:apache_beam.options.pipeline_options:Discarding unparseable args: ['-f', '/Users/emmanuelsekyi/Library/Jupyter/runtime/kernel-f8b9e387-056a-4139-9a2b-4fa175b1d85c.json']\n"
     ]
    }
   ],
   "source": []
  },
  {
   "cell_type": "code",
   "execution_count": null,
   "id": "d87afc7d-6272-4ca3-8e2b-08df5be39d19",
   "metadata": {},
   "outputs": [],
   "source": []
  }
 ],
 "metadata": {
  "kernelspec": {
   "display_name": "Python 3 (ipykernel)",
   "language": "python",
   "name": "python3"
  },
  "language_info": {
   "codemirror_mode": {
    "name": "ipython",
    "version": 3
   },
   "file_extension": ".py",
   "mimetype": "text/x-python",
   "name": "python",
   "nbconvert_exporter": "python",
   "pygments_lexer": "ipython3",
   "version": "3.10.9"
  }
 },
 "nbformat": 4,
 "nbformat_minor": 5
}
